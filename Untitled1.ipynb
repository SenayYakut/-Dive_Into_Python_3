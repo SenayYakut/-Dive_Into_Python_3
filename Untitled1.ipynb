{
 "cells": [
  {
   "cell_type": "code",
   "execution_count": 2,
   "metadata": {},
   "outputs": [
    {
     "data": {
      "text/plain": [
       "5"
      ]
     },
     "execution_count": 2,
     "metadata": {},
     "output_type": "execute_result"
    }
   ],
   "source": [
    "from helpers import add, subtract\n",
    "\n",
    "def calculate_numbers(a,b,fn):\n",
    "    if fn == \"add\":\n",
    "        return add(a,b)\n",
    "    elif fn == \"substract\":\n",
    "         return subtract(a,b)\n",
    "\n",
    "calculate_numbers(1,4, \"add\")       \n",
    "\n"
   ]
  },
  {
   "cell_type": "code",
   "execution_count": null,
   "metadata": {},
   "outputs": [],
   "source": []
  }
 ],
 "metadata": {
  "kernelspec": {
   "display_name": "Python 3",
   "language": "python",
   "name": "python3"
  }
 },
 "nbformat": 4,
 "nbformat_minor": 2
}
